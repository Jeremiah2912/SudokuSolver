{
 "cells": [
  {
   "cell_type": "code",
   "execution_count": 20,
   "metadata": {},
   "outputs": [
    {
     "name": "stdout",
     "output_type": "stream",
     "text": [
      "Sudoku Puzzle Grid\n",
      "[8, 0, 0, 0, 0, 0, 0, 7, 0]\n",
      "[0, 6, 0, 0, 0, 0, 5, 0, 1]\n",
      "[0, 0, 0, 3, 1, 9, 6, 0, 0]\n",
      "[0, 0, 0, 0, 0, 0, 0, 0, 4]\n",
      "[0, 9, 8, 0, 0, 1, 0, 0, 0]\n",
      "[4, 0, 0, 2, 9, 5, 0, 0, 0]\n",
      "[0, 0, 1, 6, 0, 8, 0, 5, 0]\n",
      "[0, 3, 2, 0, 0, 0, 0, 8, 0]\n",
      "[6, 0, 9, 0, 0, 3, 0, 0, 0]\n",
      "\n",
      "Sudoku Answer\n",
      "[8, 1, 3, 5, 6, 4, 9, 7, 2]\n",
      "[9, 6, 4, 7, 8, 2, 5, 3, 1]\n",
      "[2, 5, 7, 3, 1, 9, 6, 4, 8]\n",
      "[1, 2, 5, 8, 3, 6, 7, 9, 4]\n",
      "[3, 9, 8, 4, 7, 1, 2, 6, 5]\n",
      "[4, 7, 6, 2, 9, 5, 8, 1, 3]\n",
      "[7, 4, 1, 6, 2, 8, 3, 5, 9]\n",
      "[5, 3, 2, 9, 4, 7, 1, 8, 6]\n",
      "[6, 8, 9, 1, 5, 3, 4, 2, 7]\n"
     ]
    }
   ],
   "source": [
    "#This creates the grid for the puzzle\n",
    "def create_grid(number_string):\n",
    "    global grid\n",
    "    print('Sudoku Puzzle Grid')\n",
    "    for x in range(0, len(number_string), 9):\n",
    "        FullRow = number_string[x:x+9]\n",
    "        temp = []\n",
    "        for block in FullRow:\n",
    "            temp.append(int(block))\n",
    "        grid.append(temp)    \n",
    "    printGrid()\n",
    "    \n",
    "#This is to print the created grid\n",
    "def printGrid():\n",
    "    global grid\n",
    "    for FullRow in grid:\n",
    "        print(FullRow)\n",
    "        \n",
    "#This checks the feasibility of a number being placed in a given sub-grid\n",
    "def feasible(FullRow,FullCol,number):\n",
    "    global grid\n",
    "    for x in range(0,9):\n",
    "        if grid[FullRow][x] == number:\n",
    "            return False\n",
    "    for x in range(0,9):\n",
    "        if grid[x][FullCol] == number:\n",
    "            return False\n",
    "    subgrid_row = (FullRow//3)*3\n",
    "    subgrid_col = (FullCol//3)*3\n",
    "    for x in range(0,3):\n",
    "        for y in range(0,3):\n",
    "            if grid[subgrid_row+x][subgrid_col+y] == number:\n",
    "                return False    \n",
    "    return True\n",
    "\n",
    "#This searches through each block of the grid attempting to compute the puzzle\n",
    "def compute():\n",
    "    global grid\n",
    "    for FullRow in range(9):\n",
    "        for FullCol in range(9):\n",
    "            if grid[FullRow][FullCol] == 0:\n",
    "                for number in range(1,10):\n",
    "                    if feasible(FullRow,FullCol,number):\n",
    "                        grid[FullRow][FullCol] = number\n",
    "                        compute()\n",
    "                        grid[FullRow][FullCol] = 0\n",
    "                return\n",
    "    print('\\nSudoku Answer')\n",
    "    printGrid()\n",
    "    \n",
    "#This passes the grid and calls the function to compute the puzzle\n",
    "number_string = \"800000070060000501000319600000000004098001000400295000001608050032000080609003000\"\n",
    "grid = []\n",
    "create_grid(number_string)\n",
    "compute()\n"
   ]
  },
  {
   "cell_type": "code",
   "execution_count": null,
   "metadata": {},
   "outputs": [],
   "source": []
  },
  {
   "cell_type": "code",
   "execution_count": null,
   "metadata": {},
   "outputs": [],
   "source": []
  }
 ],
 "metadata": {
  "kernelspec": {
   "display_name": "Python 3",
   "language": "python",
   "name": "python3"
  },
  "language_info": {
   "codemirror_mode": {
    "name": "ipython",
    "version": 3
   },
   "file_extension": ".py",
   "mimetype": "text/x-python",
   "name": "python",
   "nbconvert_exporter": "python",
   "pygments_lexer": "ipython3",
   "version": "3.8.5"
  }
 },
 "nbformat": 4,
 "nbformat_minor": 4
}
